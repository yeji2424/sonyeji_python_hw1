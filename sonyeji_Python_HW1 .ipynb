{
 "cells": [
  {
   "cell_type": "code",
   "execution_count": 116,
   "id": "be292b9e",
   "metadata": {},
   "outputs": [
    {
     "name": "stdout",
     "output_type": "stream",
     "text": [
      "선택하세요(1:추가,2:삭제,3:종료)----->1\n",
      "추가 할 데이터 --- >  다현,200\n",
      "[('다현', 200)]\n",
      "선택하세요(1:추가,2:삭제,3:종료)----->1\n",
      "추가 할 데이터 --- >  정연,150\n",
      "[('다현', 200), ('정연', 150)]\n",
      "선택하세요(1:추가,2:삭제,3:종료)----->1\n",
      "추가 할 데이터 --- >  모모,170\n",
      "[('다현', 200), ('정연', 150), ('모모', 170)]\n",
      "선택하세요(1:추가,2:삭제,3:종료)----->2\n",
      "삭제할 순서 --- > 2\n",
      "[('다현', 200), ('모모', 170)]\n",
      "선택하세요(1:추가,2:삭제,3:종료)----->2\n",
      "삭제할 순서 --- > 3\n",
      "삭제 할 데이터가 존재하지 않습니다.\n",
      "선택하세요(1:추가,2:삭제,3:종료)----->3\n"
     ]
    }
   ],
   "source": [
    "twice = []\n",
    "g = True\n",
    "while g :\n",
    "    i = int(input(\"선택하세요(1:추가,2:삭제,3:종료)----->\"))\n",
    "    if i == 1 :\n",
    "        a=(input(\"추가 할 데이터 --- >  \"))\n",
    "        name = a.split(\",\")[0]\n",
    "        value=int(a.split(\",\")[1])\n",
    "        datum=(name,value)\n",
    "        if len(twice) == 0 :\n",
    "            twice.append(datum)\n",
    "        else :\n",
    "            for i in range(len(twice)):\n",
    "                if value> twice[i][1]:\n",
    "                    twice.append(None)\n",
    "                    for j in range ((len(twice)-1),i,-1) :\n",
    "                        twice[j]=twice[j-1]\n",
    "                        twice[j-1]=None\n",
    "                    twice[i]=datum\n",
    "                    break\n",
    "                else : \n",
    "                    twice.append(datum)\n",
    "                    break\n",
    "            \n",
    "        print(twice)\n",
    "\n",
    "    if i == 2 :\n",
    "        b = int(input(\"삭제할 순서 --- > \"))\n",
    "        if b > len(twice) :\n",
    "            print(\"삭제 할 데이터가 존재하지 않습니다.\")\n",
    "\n",
    "        else :\n",
    "            del twice[b-1]\n",
    "            print(twice)\n",
    "\n",
    "    if i == 3 :\n",
    "        g = False\n",
    "    "
   ]
  }
 ],
 "metadata": {
  "kernelspec": {
   "display_name": "Python 3 (ipykernel)",
   "language": "python",
   "name": "python3"
  },
  "language_info": {
   "codemirror_mode": {
    "name": "ipython",
    "version": 3
   },
   "file_extension": ".py",
   "mimetype": "text/x-python",
   "name": "python",
   "nbconvert_exporter": "python",
   "pygments_lexer": "ipython3",
   "version": "3.9.12"
  }
 },
 "nbformat": 4,
 "nbformat_minor": 5
}
